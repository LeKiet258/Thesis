{
 "cells": [
  {
   "cell_type": "code",
   "execution_count": 5,
   "metadata": {},
   "outputs": [
    {
     "data": {
      "text/plain": [
       "True"
      ]
     },
     "execution_count": 5,
     "metadata": {},
     "output_type": "execute_result"
    }
   ],
   "source": [
    "import os\n",
    "os.path.exists('D:/HCMUS/THESIS/data/Kvasir+CVC/TrainDataset')"
   ]
  },
  {
   "cell_type": "code",
   "execution_count": 9,
   "metadata": {},
   "outputs": [
    {
     "name": "stdout",
     "output_type": "stream",
     "text": [
      "D:/HCMUS/THESIS/data/Kvasir+CVC/TrainDataset/images/*\n",
      "[INFO] Train:val = 1305:145 ảnh = 90.00%:10.00%\n"
     ]
    },
    {
     "name": "stderr",
     "output_type": "stream",
     "text": [
      "Traceback (most recent call last):\n",
      "  File \"train.py\", line 228, in <module>\n",
      "    main()\n",
      "  File \"train.py\", line 224, in main\n",
      "    train(args)\n",
      "  File \"train.py\", line 164, in train\n",
      "    loss = train_epoch(model, device, train_dataloader, optimizer, epoch, Dice_loss, BCE_loss)\n",
      "  File \"train.py\", line 26, in train_epoch\n",
      "    output = model(data)\n",
      "  File \"e:\\Installation\\anaconda3\\envs\\FCBFormer-env\\lib\\site-packages\\torch\\nn\\modules\\module.py\", line 1051, in _call_impl\n",
      "    return forward_call(*input, **kwargs)\n",
      "  File \"d:\\HCMUS\\THESIS\\source code\\FCBFormer\\Models\\models.py\", line 243, in forward\n",
      "    x1 = self.TB(x)\n",
      "  File \"e:\\Installation\\anaconda3\\envs\\FCBFormer-env\\lib\\site-packages\\torch\\nn\\modules\\module.py\", line 1051, in _call_impl\n",
      "    return forward_call(*input, **kwargs)\n",
      "  File \"d:\\HCMUS\\THESIS\\source code\\FCBFormer\\Models\\models.py\", line 223, in forward\n",
      "    l = self.SFA[i](l)\n",
      "  File \"e:\\Installation\\anaconda3\\envs\\FCBFormer-env\\lib\\site-packages\\torch\\nn\\modules\\module.py\", line 1051, in _call_impl\n",
      "    return forward_call(*input, **kwargs)\n",
      "  File \"e:\\Installation\\anaconda3\\envs\\FCBFormer-env\\lib\\site-packages\\torch\\nn\\modules\\container.py\", line 139, in forward\n",
      "    input = module(input)\n",
      "  File \"e:\\Installation\\anaconda3\\envs\\FCBFormer-env\\lib\\site-packages\\torch\\nn\\modules\\module.py\", line 1051, in _call_impl\n",
      "    return forward_call(*input, **kwargs)\n",
      "  File \"d:\\HCMUS\\THESIS\\source code\\FCBFormer\\Models\\models.py\", line 33, in forward\n",
      "    h = self.in_layers(x)\n",
      "  File \"e:\\Installation\\anaconda3\\envs\\FCBFormer-env\\lib\\site-packages\\torch\\nn\\modules\\module.py\", line 1051, in _call_impl\n",
      "    return forward_call(*input, **kwargs)\n",
      "  File \"e:\\Installation\\anaconda3\\envs\\FCBFormer-env\\lib\\site-packages\\torch\\nn\\modules\\container.py\", line 139, in forward\n",
      "    input = module(input)\n",
      "  File \"e:\\Installation\\anaconda3\\envs\\FCBFormer-env\\lib\\site-packages\\torch\\nn\\modules\\module.py\", line 1051, in _call_impl\n",
      "    return forward_call(*input, **kwargs)\n",
      "  File \"e:\\Installation\\anaconda3\\envs\\FCBFormer-env\\lib\\site-packages\\torch\\nn\\modules\\conv.py\", line 443, in forward\n",
      "    return self._conv_forward(input, self.weight, self.bias)\n",
      "  File \"e:\\Installation\\anaconda3\\envs\\FCBFormer-env\\lib\\site-packages\\torch\\nn\\modules\\conv.py\", line 439, in _conv_forward\n",
      "    return F.conv2d(input, weight, bias, self.stride,\n",
      "RuntimeError: CUDA out of memory. Tried to allocate 20.00 MiB (GPU 0; 4.00 GiB total capacity; 3.38 GiB already allocated; 0 bytes free; 3.46 GiB reserved in total by PyTorch)\n"
     ]
    }
   ],
   "source": [
    "!python train.py --name='cim_2' \\\n",
    "                        --train-set D:/HCMUS/THESIS/data/Kvasir+CVC/TrainDataset \\\n",
    "                        --batch-size 5 --epochs 100"
   ]
  }
 ],
 "metadata": {
  "kernelspec": {
   "display_name": "FCBFormer-env",
   "language": "python",
   "name": "python3"
  },
  "language_info": {
   "codemirror_mode": {
    "name": "ipython",
    "version": 3
   },
   "file_extension": ".py",
   "mimetype": "text/x-python",
   "name": "python",
   "nbconvert_exporter": "python",
   "pygments_lexer": "ipython3",
   "version": "3.8.16"
  },
  "orig_nbformat": 4
 },
 "nbformat": 4,
 "nbformat_minor": 2
}
